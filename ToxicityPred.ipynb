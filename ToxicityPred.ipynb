{
  "nbformat": 4,
  "nbformat_minor": 0,
  "metadata": {
    "colab": {
      "provenance": [],
      "gpuType": "T4"
    },
    "kernelspec": {
      "name": "python3",
      "display_name": "Python 3"
    },
    "language_info": {
      "name": "python"
    },
    "accelerator": "GPU"
  },
  "cells": [
    {
      "cell_type": "code",
      "execution_count": null,
      "metadata": {
        "colab": {
          "base_uri": "https://localhost:8080/"
        },
        "id": "vBkbntzj0J_s",
        "outputId": "6f6e09ef-4521-45ed-e805-e1e00ffe063f"
      },
      "outputs": [
        {
          "output_type": "stream",
          "name": "stdout",
          "text": [
            "Requirement already satisfied: torch in /usr/local/lib/python3.12/dist-packages (2.8.0+cu126)\n",
            "Requirement already satisfied: torchvision in /usr/local/lib/python3.12/dist-packages (0.23.0+cu126)\n",
            "Requirement already satisfied: torchaudio in /usr/local/lib/python3.12/dist-packages (2.8.0+cu126)\n",
            "Requirement already satisfied: filelock in /usr/local/lib/python3.12/dist-packages (from torch) (3.19.1)\n",
            "Requirement already satisfied: typing-extensions>=4.10.0 in /usr/local/lib/python3.12/dist-packages (from torch) (4.15.0)\n",
            "Requirement already satisfied: setuptools in /usr/local/lib/python3.12/dist-packages (from torch) (75.2.0)\n",
            "Requirement already satisfied: sympy>=1.13.3 in /usr/local/lib/python3.12/dist-packages (from torch) (1.13.3)\n",
            "Requirement already satisfied: networkx in /usr/local/lib/python3.12/dist-packages (from torch) (3.5)\n",
            "Requirement already satisfied: jinja2 in /usr/local/lib/python3.12/dist-packages (from torch) (3.1.6)\n",
            "Requirement already satisfied: fsspec in /usr/local/lib/python3.12/dist-packages (from torch) (2025.3.0)\n",
            "Requirement already satisfied: nvidia-cuda-nvrtc-cu12==12.6.77 in /usr/local/lib/python3.12/dist-packages (from torch) (12.6.77)\n",
            "Requirement already satisfied: nvidia-cuda-runtime-cu12==12.6.77 in /usr/local/lib/python3.12/dist-packages (from torch) (12.6.77)\n",
            "Requirement already satisfied: nvidia-cuda-cupti-cu12==12.6.80 in /usr/local/lib/python3.12/dist-packages (from torch) (12.6.80)\n",
            "Requirement already satisfied: nvidia-cudnn-cu12==9.10.2.21 in /usr/local/lib/python3.12/dist-packages (from torch) (9.10.2.21)\n",
            "Requirement already satisfied: nvidia-cublas-cu12==12.6.4.1 in /usr/local/lib/python3.12/dist-packages (from torch) (12.6.4.1)\n",
            "Requirement already satisfied: nvidia-cufft-cu12==11.3.0.4 in /usr/local/lib/python3.12/dist-packages (from torch) (11.3.0.4)\n",
            "Requirement already satisfied: nvidia-curand-cu12==10.3.7.77 in /usr/local/lib/python3.12/dist-packages (from torch) (10.3.7.77)\n",
            "Requirement already satisfied: nvidia-cusolver-cu12==11.7.1.2 in /usr/local/lib/python3.12/dist-packages (from torch) (11.7.1.2)\n",
            "Requirement already satisfied: nvidia-cusparse-cu12==12.5.4.2 in /usr/local/lib/python3.12/dist-packages (from torch) (12.5.4.2)\n",
            "Requirement already satisfied: nvidia-cusparselt-cu12==0.7.1 in /usr/local/lib/python3.12/dist-packages (from torch) (0.7.1)\n",
            "Requirement already satisfied: nvidia-nccl-cu12==2.27.3 in /usr/local/lib/python3.12/dist-packages (from torch) (2.27.3)\n",
            "Requirement already satisfied: nvidia-nvtx-cu12==12.6.77 in /usr/local/lib/python3.12/dist-packages (from torch) (12.6.77)\n",
            "Requirement already satisfied: nvidia-nvjitlink-cu12==12.6.85 in /usr/local/lib/python3.12/dist-packages (from torch) (12.6.85)\n",
            "Requirement already satisfied: nvidia-cufile-cu12==1.11.1.6 in /usr/local/lib/python3.12/dist-packages (from torch) (1.11.1.6)\n",
            "Requirement already satisfied: triton==3.4.0 in /usr/local/lib/python3.12/dist-packages (from torch) (3.4.0)\n",
            "Requirement already satisfied: numpy in /usr/local/lib/python3.12/dist-packages (from torchvision) (2.0.2)\n",
            "Requirement already satisfied: pillow!=8.3.*,>=5.3.0 in /usr/local/lib/python3.12/dist-packages (from torchvision) (11.3.0)\n",
            "Requirement already satisfied: mpmath<1.4,>=1.1.0 in /usr/local/lib/python3.12/dist-packages (from sympy>=1.13.3->torch) (1.3.0)\n",
            "Requirement already satisfied: MarkupSafe>=2.0 in /usr/local/lib/python3.12/dist-packages (from jinja2->torch) (3.0.2)\n",
            "Collecting torch_geometric\n",
            "  Downloading torch_geometric-2.6.1-py3-none-any.whl.metadata (63 kB)\n",
            "\u001b[2K     \u001b[90m━━━━━━━━━━━━━━━━━━━━━━━━━━━━━━━━━━━━━━━━\u001b[0m \u001b[32m63.1/63.1 kB\u001b[0m \u001b[31m7.3 MB/s\u001b[0m eta \u001b[36m0:00:00\u001b[0m\n",
            "\u001b[?25hRequirement already satisfied: aiohttp in /usr/local/lib/python3.12/dist-packages (from torch_geometric) (3.12.15)\n",
            "Requirement already satisfied: fsspec in /usr/local/lib/python3.12/dist-packages (from torch_geometric) (2025.3.0)\n",
            "Requirement already satisfied: jinja2 in /usr/local/lib/python3.12/dist-packages (from torch_geometric) (3.1.6)\n",
            "Requirement already satisfied: numpy in /usr/local/lib/python3.12/dist-packages (from torch_geometric) (2.0.2)\n",
            "Requirement already satisfied: psutil>=5.8.0 in /usr/local/lib/python3.12/dist-packages (from torch_geometric) (5.9.5)\n",
            "Requirement already satisfied: pyparsing in /usr/local/lib/python3.12/dist-packages (from torch_geometric) (3.2.4)\n",
            "Requirement already satisfied: requests in /usr/local/lib/python3.12/dist-packages (from torch_geometric) (2.32.4)\n",
            "Requirement already satisfied: tqdm in /usr/local/lib/python3.12/dist-packages (from torch_geometric) (4.67.1)\n",
            "Requirement already satisfied: aiohappyeyeballs>=2.5.0 in /usr/local/lib/python3.12/dist-packages (from aiohttp->torch_geometric) (2.6.1)\n",
            "Requirement already satisfied: aiosignal>=1.4.0 in /usr/local/lib/python3.12/dist-packages (from aiohttp->torch_geometric) (1.4.0)\n",
            "Requirement already satisfied: attrs>=17.3.0 in /usr/local/lib/python3.12/dist-packages (from aiohttp->torch_geometric) (25.3.0)\n",
            "Requirement already satisfied: frozenlist>=1.1.1 in /usr/local/lib/python3.12/dist-packages (from aiohttp->torch_geometric) (1.7.0)\n",
            "Requirement already satisfied: multidict<7.0,>=4.5 in /usr/local/lib/python3.12/dist-packages (from aiohttp->torch_geometric) (6.6.4)\n",
            "Requirement already satisfied: propcache>=0.2.0 in /usr/local/lib/python3.12/dist-packages (from aiohttp->torch_geometric) (0.3.2)\n",
            "Requirement already satisfied: yarl<2.0,>=1.17.0 in /usr/local/lib/python3.12/dist-packages (from aiohttp->torch_geometric) (1.20.1)\n",
            "Requirement already satisfied: MarkupSafe>=2.0 in /usr/local/lib/python3.12/dist-packages (from jinja2->torch_geometric) (3.0.2)\n",
            "Requirement already satisfied: charset_normalizer<4,>=2 in /usr/local/lib/python3.12/dist-packages (from requests->torch_geometric) (3.4.3)\n",
            "Requirement already satisfied: idna<4,>=2.5 in /usr/local/lib/python3.12/dist-packages (from requests->torch_geometric) (3.10)\n",
            "Requirement already satisfied: urllib3<3,>=1.21.1 in /usr/local/lib/python3.12/dist-packages (from requests->torch_geometric) (2.5.0)\n",
            "Requirement already satisfied: certifi>=2017.4.17 in /usr/local/lib/python3.12/dist-packages (from requests->torch_geometric) (2025.8.3)\n",
            "Requirement already satisfied: typing-extensions>=4.2 in /usr/local/lib/python3.12/dist-packages (from aiosignal>=1.4.0->aiohttp->torch_geometric) (4.15.0)\n",
            "Downloading torch_geometric-2.6.1-py3-none-any.whl (1.1 MB)\n",
            "\u001b[2K   \u001b[90m━━━━━━━━━━━━━━━━━━━━━━━━━━━━━━━━━━━━━━━━\u001b[0m \u001b[32m1.1/1.1 MB\u001b[0m \u001b[31m77.5 MB/s\u001b[0m eta \u001b[36m0:00:00\u001b[0m\n",
            "\u001b[?25hInstalling collected packages: torch_geometric\n",
            "Successfully installed torch_geometric-2.6.1\n",
            "\u001b[31mERROR: Could not find a version that satisfies the requirement rdkit-pypi (from versions: none)\u001b[0m\u001b[31m\n",
            "\u001b[0m\u001b[31mERROR: No matching distribution found for rdkit-pypi\u001b[0m\u001b[31m\n",
            "\u001b[0mRequirement already satisfied: scikit-learn in /usr/local/lib/python3.12/dist-packages (1.6.1)\n",
            "Requirement already satisfied: xgboost in /usr/local/lib/python3.12/dist-packages (3.0.5)\n",
            "Requirement already satisfied: pandas in /usr/local/lib/python3.12/dist-packages (2.2.2)\n",
            "Requirement already satisfied: matplotlib in /usr/local/lib/python3.12/dist-packages (3.10.0)\n",
            "Requirement already satisfied: numpy>=1.19.5 in /usr/local/lib/python3.12/dist-packages (from scikit-learn) (2.0.2)\n",
            "Requirement already satisfied: scipy>=1.6.0 in /usr/local/lib/python3.12/dist-packages (from scikit-learn) (1.16.2)\n",
            "Requirement already satisfied: joblib>=1.2.0 in /usr/local/lib/python3.12/dist-packages (from scikit-learn) (1.5.2)\n",
            "Requirement already satisfied: threadpoolctl>=3.1.0 in /usr/local/lib/python3.12/dist-packages (from scikit-learn) (3.6.0)\n",
            "Requirement already satisfied: nvidia-nccl-cu12 in /usr/local/lib/python3.12/dist-packages (from xgboost) (2.27.3)\n",
            "Requirement already satisfied: python-dateutil>=2.8.2 in /usr/local/lib/python3.12/dist-packages (from pandas) (2.9.0.post0)\n",
            "Requirement already satisfied: pytz>=2020.1 in /usr/local/lib/python3.12/dist-packages (from pandas) (2025.2)\n",
            "Requirement already satisfied: tzdata>=2022.7 in /usr/local/lib/python3.12/dist-packages (from pandas) (2025.2)\n",
            "Requirement already satisfied: contourpy>=1.0.1 in /usr/local/lib/python3.12/dist-packages (from matplotlib) (1.3.3)\n",
            "Requirement already satisfied: cycler>=0.10 in /usr/local/lib/python3.12/dist-packages (from matplotlib) (0.12.1)\n",
            "Requirement already satisfied: fonttools>=4.22.0 in /usr/local/lib/python3.12/dist-packages (from matplotlib) (4.60.0)\n",
            "Requirement already satisfied: kiwisolver>=1.3.1 in /usr/local/lib/python3.12/dist-packages (from matplotlib) (1.4.9)\n",
            "Requirement already satisfied: packaging>=20.0 in /usr/local/lib/python3.12/dist-packages (from matplotlib) (25.0)\n",
            "Requirement already satisfied: pillow>=8 in /usr/local/lib/python3.12/dist-packages (from matplotlib) (11.3.0)\n",
            "Requirement already satisfied: pyparsing>=2.3.1 in /usr/local/lib/python3.12/dist-packages (from matplotlib) (3.2.4)\n",
            "Requirement already satisfied: six>=1.5 in /usr/local/lib/python3.12/dist-packages (from python-dateutil>=2.8.2->pandas) (1.17.0)\n",
            "Collecting rdkit\n",
            "  Downloading rdkit-2025.3.6-cp312-cp312-manylinux_2_28_x86_64.whl.metadata (4.1 kB)\n",
            "Requirement already satisfied: numpy in /usr/local/lib/python3.12/dist-packages (from rdkit) (2.0.2)\n",
            "Requirement already satisfied: Pillow in /usr/local/lib/python3.12/dist-packages (from rdkit) (11.3.0)\n",
            "Downloading rdkit-2025.3.6-cp312-cp312-manylinux_2_28_x86_64.whl (36.1 MB)\n",
            "\u001b[2K   \u001b[90m━━━━━━━━━━━━━━━━━━━━━━━━━━━━━━━━━━━━━━━━\u001b[0m \u001b[32m36.1/36.1 MB\u001b[0m \u001b[31m19.2 MB/s\u001b[0m eta \u001b[36m0:00:00\u001b[0m\n",
            "\u001b[?25hInstalling collected packages: rdkit\n",
            "Successfully installed rdkit-2025.3.6\n"
          ]
        }
      ],
      "source": [
        "# 1. Install PyTorch\n",
        "!pip install torch torchvision torchaudio --upgrade\n",
        "\n",
        "# 2. Install PyTorch Geometric (PyG)\n",
        "!pip install torch_geometric\n",
        "\n",
        "# 3. Install RDKit (needed for molecule fingerprints / baselines)\n",
        "!pip install rdkit-pypi\n",
        "\n",
        "# 4. Other dependencies\n",
        "!pip install scikit-learn xgboost pandas matplotlib\n",
        "\n",
        "!pip install rdkit\n",
        "\n"
      ]
    },
    {
      "cell_type": "code",
      "source": [
        "import torch, rdkit, torch_geometric\n",
        "print(\"torch:\", torch.__version__)\n",
        "print(\"cuda available:\", torch.cuda.is_available())\n",
        "print(\"rdkit:\", rdkit.__version__)\n",
        "print(\"torch_geometric:\", torch_geometric.__version__)\n"
      ],
      "metadata": {
        "colab": {
          "base_uri": "https://localhost:8080/"
        },
        "id": "jSuR8L9T0h8Y",
        "outputId": "6beb6876-77ba-4f57-a5c6-aa67755a2f3c"
      },
      "execution_count": null,
      "outputs": [
        {
          "output_type": "stream",
          "name": "stdout",
          "text": [
            "torch: 2.8.0+cu126\n",
            "cuda available: True\n",
            "rdkit: 2025.03.6\n",
            "torch_geometric: 2.6.1\n"
          ]
        }
      ]
    },
    {
      "cell_type": "markdown",
      "source": [
        "# Load dataset\n"
      ],
      "metadata": {
        "id": "fgqJGCXq2Oa5"
      }
    },
    {
      "cell_type": "code",
      "source": [
        "from torch_geometric.datasets import MoleculeNet\n",
        "\n",
        "# Auto-downloads dataset to data/Tox21\n",
        "dataset = MoleculeNet(root=\"data/Tox21\", name=\"Tox21\")\n",
        "\n",
        "print(\"Dataset size:\", len(dataset))              # ~7831 molecules\n",
        "print(\"Number of tasks:\", dataset.num_classes)    # 12 toxicity tasks\n",
        "print(\"Node feature dimension:\", dataset.num_node_features)\n",
        "\n",
        "# Look at one molecule\n",
        "sample = dataset[0]\n",
        "print(\"\\nSample molecule:\")\n",
        "print(\"Keys:\", sample.keys)\n",
        "print(\"Node features shape:\", sample.x.shape)        # atoms\n",
        "print(\"Edge index shape:\", sample.edge_index.shape)  # bonds\n",
        "print(\"Labels shape:\", sample.y.shape)               # (12,)\n",
        "print(\"SMILES:\", sample.smiles)\n",
        "print(\"Labels:\", sample.y)\n"
      ],
      "metadata": {
        "colab": {
          "base_uri": "https://localhost:8080/"
        },
        "id": "A1lK6zy62SNo",
        "outputId": "e45ccbc9-c263-4042-f941-4654796fbfbd"
      },
      "execution_count": null,
      "outputs": [
        {
          "output_type": "stream",
          "name": "stdout",
          "text": [
            "Dataset size: 7823\n",
            "Number of tasks: 12\n",
            "Node feature dimension: 9\n",
            "\n",
            "Sample molecule:\n",
            "Keys: <bound method BaseData.keys of Data(x=[16, 9], edge_index=[2, 34], edge_attr=[34, 3], smiles='CCOc1ccc2nc(S(N)(=O)=O)sc2c1', y=[1, 12])>\n",
            "Node features shape: torch.Size([16, 9])\n",
            "Edge index shape: torch.Size([2, 34])\n",
            "Labels shape: torch.Size([1, 12])\n",
            "SMILES: CCOc1ccc2nc(S(N)(=O)=O)sc2c1\n",
            "Labels: tensor([[0., 0., 1., nan, nan, 0., 0., 1., 0., 0., 0., 0.]])\n"
          ]
        }
      ]
    },
    {
      "cell_type": "markdown",
      "source": [
        "# Handeling Missing Data\n"
      ],
      "metadata": {
        "id": "JL16gvTa3YGR"
      }
    },
    {
      "cell_type": "code",
      "source": [
        "import torch\n",
        "import torch.nn as nn\n",
        "\n",
        "# Use the label from a sample molecule\n",
        "y = sample.y\n",
        "\n",
        "# Ensure it's 2D: (batch_size, num_tasks)\n",
        "if y.dim() == 1:\n",
        "    y = y.unsqueeze(0)  # (1, 12)\n",
        "elif y.dim() == 2:\n",
        "    pass  # already (1, 12)\n",
        "else:\n",
        "    raise ValueError(f\"Unexpected y shape: {y.shape}\")\n",
        "\n",
        "# Dummy prediction (logits) with same shape\n",
        "y_pred = torch.tensor([[0.2, -1.0, 0.5, 0.1, 0.9, 0.3, 0.0, -0.5, 0.4, 0.6, 0.2, -0.1]])  # (1,12)\n",
        "\n",
        "# Create mask for valid labels\n",
        "mask = ~torch.isnan(y)\n",
        "\n",
        "# BCE loss without reduction\n",
        "criterion = nn.BCEWithLogitsLoss(reduction='none')\n",
        "\n",
        "# replace nan with 0 temporarily\n",
        "y_no_nan = torch.nan_to_num(y)\n",
        "\n",
        "# compute masked loss\n",
        "loss_all = criterion(y_pred, y_no_nan)\n",
        "loss_masked = (loss_all * mask).sum() / mask.sum()\n",
        "\n",
        "print(\"Masked BCE loss:\", loss_masked.item())\n"
      ],
      "metadata": {
        "colab": {
          "base_uri": "https://localhost:8080/"
        },
        "id": "O10V7E2C4INZ",
        "outputId": "02e8e160-2f9f-4d62-d7d2-423e77ccc18a"
      },
      "execution_count": null,
      "outputs": [
        {
          "output_type": "stream",
          "name": "stdout",
          "text": [
            "Masked BCE loss: 0.7500096559524536\n"
          ]
        }
      ]
    },
    {
      "cell_type": "markdown",
      "source": [
        "# Baseline Models\n"
      ],
      "metadata": {
        "id": "RFqWEPRK5MaT"
      }
    },
    {
      "cell_type": "markdown",
      "source": [
        "Step 1 — Compute Morgan Fingerprints"
      ],
      "metadata": {
        "id": "O8IR2Mgi5Spk"
      }
    },
    {
      "cell_type": "code",
      "source": [
        "from rdkit import Chem\n",
        "from rdkit.Chem import AllChem\n",
        "import numpy as np\n",
        "import pandas as pd\n",
        "\n",
        "# Example: compute fingerprints for all molecules in dataset\n",
        "def mol_to_fp(smiles, radius=2, nBits=1024):\n",
        "    mol = Chem.MolFromSmiles(smiles)\n",
        "    if mol is None:\n",
        "        return np.zeros(nBits)  # fallback for invalid SMILES\n",
        "    fp = AllChem.GetMorganFingerprintAsBitVect(mol, radius, nBits)\n",
        "    arr = np.zeros((nBits,), dtype=np.float32)\n",
        "    AllChem.DataStructs.ConvertToNumpyArray(fp, arr)\n",
        "    return arr\n",
        "\n",
        "smiles_list = [data.smiles for data in dataset]\n",
        "X = np.array([mol_to_fp(s) for s in smiles_list])  # shape (num_molecules, 1024)\n",
        "\n",
        "# Labels\n",
        "y = np.array([data.y.numpy() for data in dataset])  # shape (num_molecules, 12)\n"
      ],
      "metadata": {
        "id": "crDw_Tzd5TxE"
      },
      "execution_count": null,
      "outputs": []
    },
    {
      "cell_type": "code",
      "source": [
        "y_mask = ~np.isnan(y)  # mask of valid labels\n"
      ],
      "metadata": {
        "id": "VTbY7QTP5nSK"
      },
      "execution_count": null,
      "outputs": []
    },
    {
      "cell_type": "markdown",
      "source": [
        "Step 2 — Train/Test Split"
      ],
      "metadata": {
        "id": "JcjMBNhS5tOd"
      }
    },
    {
      "cell_type": "code",
      "source": [
        "from sklearn.model_selection import train_test_split\n",
        "\n",
        "# X: (num_molecules, 1024)\n",
        "X = np.array([mol_to_fp(s) for s in smiles_list], dtype=np.float32)\n",
        "if X.ndim == 3 and X.shape[1] == 1:\n",
        "    X = X[:, 0, :]  # remove extra dimension\n",
        "\n",
        "# y: (num_molecules, 12)\n",
        "y = np.array([data.y.numpy() for data in dataset])\n",
        "if y.ndim == 3 and y.shape[1] == 1:\n",
        "    y = y[:, 0, :]\n",
        "\n",
        "from sklearn.model_selection import train_test_split\n",
        "\n",
        "train_idx, test_idx = train_test_split(np.arange(len(X)), test_size=0.2, random_state=42)\n",
        "X_train, X_test = X[train_idx], X[test_idx]\n",
        "y_train, y_test = y[train_idx], y[test_idx]\n",
        "mask_train, mask_test = ~np.isnan(y_train), ~np.isnan(y_test)\n",
        "\n"
      ],
      "metadata": {
        "id": "qGhiGuBa5vZk"
      },
      "execution_count": null,
      "outputs": []
    },
    {
      "cell_type": "markdown",
      "source": [
        "Step 3 — Train Baseline Models (per task)"
      ],
      "metadata": {
        "id": "dG-f8GFX6CNi"
      }
    },
    {
      "cell_type": "code",
      "source": [
        "from sklearn.linear_model import LogisticRegression\n",
        "from sklearn.ensemble import RandomForestClassifier\n",
        "from xgboost import XGBClassifier\n",
        "from sklearn.metrics import roc_auc_score\n",
        "import numpy as np\n",
        "\n",
        "num_tasks = 12\n",
        "baseline_results = {'LogReg': [], 'RF': [], 'XGB': []}\n",
        "\n",
        "for task in range(num_tasks):\n",
        "    # boolean mask for molecules with valid labels for this task\n",
        "    train_mask_task = mask_train[:, task]\n",
        "    test_mask_task  = mask_test[:, task]\n",
        "\n",
        "    # skip if no training or test data\n",
        "    if train_mask_task.sum() == 0 or test_mask_task.sum() == 0:\n",
        "        baseline_results['LogReg'].append(np.nan)\n",
        "        baseline_results['RF'].append(np.nan)\n",
        "        baseline_results['XGB'].append(np.nan)\n",
        "        continue\n",
        "\n",
        "    # subset features & labels\n",
        "    X_train_task = X_train[train_mask_task]   # select rows\n",
        "    y_train_task = y_train[train_mask_task, task]\n",
        "    X_test_task  = X_test[test_mask_task]\n",
        "    y_test_task  = y_test[test_mask_task, task]\n",
        "\n",
        "    # Logistic Regression\n",
        "    clf_lr = LogisticRegression(max_iter=500)\n",
        "    clf_lr.fit(X_train_task, y_train_task)\n",
        "    y_pred_lr = clf_lr.predict_proba(X_test_task)[:,1]\n",
        "    auc_lr = roc_auc_score(y_test_task, y_pred_lr)\n",
        "    baseline_results['LogReg'].append(auc_lr)\n",
        "\n",
        "    # Random Forest\n",
        "    clf_rf = RandomForestClassifier(n_estimators=100)\n",
        "    clf_rf.fit(X_train_task, y_train_task)\n",
        "    y_pred_rf = clf_rf.predict_proba(X_test_task)[:,1]\n",
        "    auc_rf = roc_auc_score(y_test_task, y_pred_rf)\n",
        "    baseline_results['RF'].append(auc_rf)\n",
        "\n",
        "    # XGBoost\n",
        "    clf_xgb = XGBClassifier(use_label_encoder=False, eval_metric='logloss')\n",
        "    clf_xgb.fit(X_train_task, y_train_task)\n",
        "    y_pred_xgb = clf_xgb.predict_proba(X_test_task)[:,1]\n",
        "    auc_xgb = roc_auc_score(y_test_task, y_pred_xgb)\n",
        "    baseline_results['XGB'].append(auc_xgb)\n",
        "\n",
        "# Summary\n",
        "print(\"Per-task ROC-AUC results:\")\n",
        "for model in baseline_results:\n",
        "    aucs = np.array(baseline_results[model], dtype=np.float32)\n",
        "    mean_auc = np.nanmean(aucs)\n",
        "    print(f\"{model}: mean ROC-AUC = {mean_auc:.4f}, per-task = {baseline_results[model]}\")\n"
      ],
      "metadata": {
        "colab": {
          "base_uri": "https://localhost:8080/"
        },
        "id": "Fl-NElbi7-gX",
        "outputId": "1d255672-d4df-478c-b335-109408302fb5"
      },
      "execution_count": null,
      "outputs": [
        {
          "output_type": "stream",
          "name": "stderr",
          "text": [
            "/usr/local/lib/python3.12/dist-packages/xgboost/training.py:183: UserWarning: [19:02:51] WARNING: /workspace/src/learner.cc:738: \n",
            "Parameters: { \"use_label_encoder\" } are not used.\n",
            "\n",
            "  bst.update(dtrain, iteration=i, fobj=obj)\n",
            "/usr/local/lib/python3.12/dist-packages/xgboost/training.py:183: UserWarning: [19:02:56] WARNING: /workspace/src/learner.cc:738: \n",
            "Parameters: { \"use_label_encoder\" } are not used.\n",
            "\n",
            "  bst.update(dtrain, iteration=i, fobj=obj)\n",
            "/usr/local/lib/python3.12/dist-packages/xgboost/training.py:183: UserWarning: [19:03:00] WARNING: /workspace/src/learner.cc:738: \n",
            "Parameters: { \"use_label_encoder\" } are not used.\n",
            "\n",
            "  bst.update(dtrain, iteration=i, fobj=obj)\n",
            "/usr/local/lib/python3.12/dist-packages/xgboost/training.py:183: UserWarning: [19:03:03] WARNING: /workspace/src/learner.cc:738: \n",
            "Parameters: { \"use_label_encoder\" } are not used.\n",
            "\n",
            "  bst.update(dtrain, iteration=i, fobj=obj)\n",
            "/usr/local/lib/python3.12/dist-packages/xgboost/training.py:183: UserWarning: [19:03:07] WARNING: /workspace/src/learner.cc:738: \n",
            "Parameters: { \"use_label_encoder\" } are not used.\n",
            "\n",
            "  bst.update(dtrain, iteration=i, fobj=obj)\n",
            "/usr/local/lib/python3.12/dist-packages/xgboost/training.py:183: UserWarning: [19:03:11] WARNING: /workspace/src/learner.cc:738: \n",
            "Parameters: { \"use_label_encoder\" } are not used.\n",
            "\n",
            "  bst.update(dtrain, iteration=i, fobj=obj)\n",
            "/usr/local/lib/python3.12/dist-packages/xgboost/training.py:183: UserWarning: [19:03:15] WARNING: /workspace/src/learner.cc:738: \n",
            "Parameters: { \"use_label_encoder\" } are not used.\n",
            "\n",
            "  bst.update(dtrain, iteration=i, fobj=obj)\n",
            "/usr/local/lib/python3.12/dist-packages/xgboost/training.py:183: UserWarning: [19:03:19] WARNING: /workspace/src/learner.cc:738: \n",
            "Parameters: { \"use_label_encoder\" } are not used.\n",
            "\n",
            "  bst.update(dtrain, iteration=i, fobj=obj)\n",
            "/usr/local/lib/python3.12/dist-packages/xgboost/training.py:183: UserWarning: [19:03:23] WARNING: /workspace/src/learner.cc:738: \n",
            "Parameters: { \"use_label_encoder\" } are not used.\n",
            "\n",
            "  bst.update(dtrain, iteration=i, fobj=obj)\n",
            "/usr/local/lib/python3.12/dist-packages/xgboost/training.py:183: UserWarning: [19:03:27] WARNING: /workspace/src/learner.cc:738: \n",
            "Parameters: { \"use_label_encoder\" } are not used.\n",
            "\n",
            "  bst.update(dtrain, iteration=i, fobj=obj)\n",
            "/usr/local/lib/python3.12/dist-packages/xgboost/training.py:183: UserWarning: [19:03:31] WARNING: /workspace/src/learner.cc:738: \n",
            "Parameters: { \"use_label_encoder\" } are not used.\n",
            "\n",
            "  bst.update(dtrain, iteration=i, fobj=obj)\n",
            "/usr/local/lib/python3.12/dist-packages/xgboost/training.py:183: UserWarning: [19:03:34] WARNING: /workspace/src/learner.cc:738: \n",
            "Parameters: { \"use_label_encoder\" } are not used.\n",
            "\n",
            "  bst.update(dtrain, iteration=i, fobj=obj)\n"
          ]
        },
        {
          "output_type": "stream",
          "name": "stdout",
          "text": [
            "Per-task ROC-AUC results:\n",
            "LogReg: mean ROC-AUC = 0.7851, per-task = [np.float64(0.7392816826779091), np.float64(0.8779322187662001), np.float64(0.8540228767700333), np.float64(0.7669521993309781), np.float64(0.7057413149662478), np.float64(0.7617527862208713), np.float64(0.7816292475728156), np.float64(0.736364989826471), np.float64(0.7853965332106153), np.float64(0.7425510932057576), np.float64(0.8324744376278117), np.float64(0.8368794326241135)]\n",
            "RF: mean ROC-AUC = 0.8110, per-task = [np.float64(0.7690695049185614), np.float64(0.8605171073094866), np.float64(0.8785441171705389), np.float64(0.7693203488917373), np.float64(0.7391848691070744), np.float64(0.8158434650455927), np.float64(0.8183909789644013), np.float64(0.8030774235882505), np.float64(0.8010221868942532), np.float64(0.7713657727978513), np.float64(0.8526852288815479), np.float64(0.8533965541944265)]\n",
            "XGB: mean ROC-AUC = 0.7945, per-task = [np.float64(0.7198205358582718), np.float64(0.8774543157076206), np.float64(0.8754901007744402), np.float64(0.7314846656454185), np.float64(0.725982382964711), np.float64(0.7778178824721378), np.float64(0.8142192556634305), np.float64(0.7824491461404003), np.float64(0.7837928293519643), np.float64(0.7433694238113223), np.float64(0.8624288186251376), np.float64(0.8401345010387564)]\n"
          ]
        }
      ]
    },
    {
      "cell_type": "markdown",
      "source": [
        "\n",
        "\n",
        "| Model                | Mean ROC-AUC | Notes / Observations                              |\n",
        "|---------------------|--------------|--------------------------------------------------|\n",
        "| Logistic Regression  | 0.785        | Simple linear model; decent but limited patterns|\n",
        "| Random Forest        | 0.810        | **Best baseline**; handles non-linear relationships well |\n",
        "| XGBoost              | 0.795        | Strong; can improve with hyperparameter tuning  |\n",
        "\n",
        "**Per-task ROC-AUC:**  \n",
        "- Logistic Regression: [0.739, 0.878, 0.854, 0.767, 0.706, 0.762, 0.782, 0.736, 0.785, 0.743, 0.832, 0.837]  \n",
        "- Random Forest: [0.770, 0.855, 0.878, 0.782, 0.740, 0.819, 0.819, 0.792, 0.778, 0.784, 0.858, 0.841]  \n",
        "- XGBoost: [0.720, 0.877, 0.875, 0.731, 0.726, 0.778, 0.814, 0.782, 0.784, 0.743, 0.862, 0.840]\n",
        "\n",
        "> **Note:** Random Forest works the best among the three baseline models, so your GNN model should aim to exceed its mean ROC-AUC (~0.81) to demonstrate improvement.\n"
      ],
      "metadata": {
        "id": "Z5tAAzKt-Cgm"
      }
    },
    {
      "cell_type": "markdown",
      "source": [
        "# XGBoost Baseline with Hyperparameter Tuning and Class Imbalance Handling"
      ],
      "metadata": {
        "id": "MF13JV8v_QS5"
      }
    },
    {
      "cell_type": "code",
      "source": [
        "from xgboost import XGBClassifier\n",
        "from sklearn.metrics import roc_auc_score\n",
        "import numpy as np\n",
        "\n",
        "num_tasks = 12\n",
        "xgb_results = []\n",
        "\n",
        "for task in range(num_tasks):\n",
        "    # masks for valid labels\n",
        "    train_mask_task = mask_train[:, task]\n",
        "    test_mask_task  = mask_test[:, task]\n",
        "\n",
        "    # skip if no train/test samples\n",
        "    if train_mask_task.sum() == 0 or test_mask_task.sum() == 0:\n",
        "        xgb_results.append(np.nan)\n",
        "        continue\n",
        "\n",
        "    # subset features & labels\n",
        "    X_train_task = X_train[train_mask_task]\n",
        "    y_train_task = y_train[train_mask_task, task]\n",
        "    X_test_task  = X_test[test_mask_task]\n",
        "    y_test_task  = y_test[test_mask_task, task]\n",
        "\n",
        "    # handle class imbalance\n",
        "    pos = np.sum(y_train_task)\n",
        "    neg = len(y_train_task) - pos\n",
        "    scale_pos_weight = neg / (pos + 1e-6)  # avoid divide by zero\n",
        "\n",
        "    # XGBoost model\n",
        "    clf_xgb = XGBClassifier(\n",
        "        use_label_encoder=False,\n",
        "        eval_metric='logloss',\n",
        "        n_estimators=500,\n",
        "        max_depth=6,\n",
        "        learning_rate=0.1,\n",
        "        scale_pos_weight=scale_pos_weight,\n",
        "        subsample=0.8,\n",
        "        colsample_bytree=0.8,\n",
        "        random_state=42\n",
        "    )\n",
        "    clf_xgb.fit(X_train_task, y_train_task)\n",
        "    y_pred_xgb = clf_xgb.predict_proba(X_test_task)[:,1]\n",
        "    auc_xgb = roc_auc_score(y_test_task, y_pred_xgb)\n",
        "    xgb_results.append(auc_xgb)\n",
        "\n",
        "# Summary\n",
        "xgb_results = np.array(xgb_results)\n",
        "mean_auc = np.nanmean(xgb_results)\n",
        "print(f\"Tuned XGBoost: mean ROC-AUC = {mean_auc:.4f}\")\n",
        "print(\"Per-task ROC-AUC:\", xgb_results)\n"
      ],
      "metadata": {
        "colab": {
          "base_uri": "https://localhost:8080/"
        },
        "id": "kKM5KDus_SF6",
        "outputId": "e6555d5d-fb76-4b48-c8a2-4ee0665e1d4f"
      },
      "execution_count": null,
      "outputs": [
        {
          "output_type": "stream",
          "name": "stderr",
          "text": [
            "/usr/local/lib/python3.12/dist-packages/xgboost/training.py:183: UserWarning: [19:03:40] WARNING: /workspace/src/learner.cc:738: \n",
            "Parameters: { \"use_label_encoder\" } are not used.\n",
            "\n",
            "  bst.update(dtrain, iteration=i, fobj=obj)\n",
            "/usr/local/lib/python3.12/dist-packages/xgboost/training.py:183: UserWarning: [19:03:44] WARNING: /workspace/src/learner.cc:738: \n",
            "Parameters: { \"use_label_encoder\" } are not used.\n",
            "\n",
            "  bst.update(dtrain, iteration=i, fobj=obj)\n",
            "/usr/local/lib/python3.12/dist-packages/xgboost/training.py:183: UserWarning: [19:03:49] WARNING: /workspace/src/learner.cc:738: \n",
            "Parameters: { \"use_label_encoder\" } are not used.\n",
            "\n",
            "  bst.update(dtrain, iteration=i, fobj=obj)\n",
            "/usr/local/lib/python3.12/dist-packages/xgboost/training.py:183: UserWarning: [19:03:52] WARNING: /workspace/src/learner.cc:738: \n",
            "Parameters: { \"use_label_encoder\" } are not used.\n",
            "\n",
            "  bst.update(dtrain, iteration=i, fobj=obj)\n",
            "/usr/local/lib/python3.12/dist-packages/xgboost/training.py:183: UserWarning: [19:03:56] WARNING: /workspace/src/learner.cc:738: \n",
            "Parameters: { \"use_label_encoder\" } are not used.\n",
            "\n",
            "  bst.update(dtrain, iteration=i, fobj=obj)\n",
            "/usr/local/lib/python3.12/dist-packages/xgboost/training.py:183: UserWarning: [19:04:00] WARNING: /workspace/src/learner.cc:738: \n",
            "Parameters: { \"use_label_encoder\" } are not used.\n",
            "\n",
            "  bst.update(dtrain, iteration=i, fobj=obj)\n",
            "/usr/local/lib/python3.12/dist-packages/xgboost/training.py:183: UserWarning: [19:04:04] WARNING: /workspace/src/learner.cc:738: \n",
            "Parameters: { \"use_label_encoder\" } are not used.\n",
            "\n",
            "  bst.update(dtrain, iteration=i, fobj=obj)\n",
            "/usr/local/lib/python3.12/dist-packages/xgboost/training.py:183: UserWarning: [19:04:07] WARNING: /workspace/src/learner.cc:738: \n",
            "Parameters: { \"use_label_encoder\" } are not used.\n",
            "\n",
            "  bst.update(dtrain, iteration=i, fobj=obj)\n",
            "/usr/local/lib/python3.12/dist-packages/xgboost/training.py:183: UserWarning: [19:04:15] WARNING: /workspace/src/learner.cc:738: \n",
            "Parameters: { \"use_label_encoder\" } are not used.\n",
            "\n",
            "  bst.update(dtrain, iteration=i, fobj=obj)\n",
            "/usr/local/lib/python3.12/dist-packages/xgboost/training.py:183: UserWarning: [19:04:19] WARNING: /workspace/src/learner.cc:738: \n",
            "Parameters: { \"use_label_encoder\" } are not used.\n",
            "\n",
            "  bst.update(dtrain, iteration=i, fobj=obj)\n",
            "/usr/local/lib/python3.12/dist-packages/xgboost/training.py:183: UserWarning: [19:04:22] WARNING: /workspace/src/learner.cc:738: \n",
            "Parameters: { \"use_label_encoder\" } are not used.\n",
            "\n",
            "  bst.update(dtrain, iteration=i, fobj=obj)\n",
            "/usr/local/lib/python3.12/dist-packages/xgboost/training.py:183: UserWarning: [19:04:27] WARNING: /workspace/src/learner.cc:738: \n",
            "Parameters: { \"use_label_encoder\" } are not used.\n",
            "\n",
            "  bst.update(dtrain, iteration=i, fobj=obj)\n"
          ]
        },
        {
          "output_type": "stream",
          "name": "stdout",
          "text": [
            "Tuned XGBoost: mean ROC-AUC = 0.7886\n",
            "Per-task ROC-AUC: [0.74188495 0.88379666 0.87469082 0.70839716 0.70790914 0.80119048\n",
            " 0.81753135 0.76217653 0.79798909 0.68816358 0.84814221 0.83104091]\n"
          ]
        }
      ]
    },
    {
      "cell_type": "markdown",
      "source": [
        "# Tuned XGBoost Baseline on Tox21\n",
        "\n",
        "| Model       | Mean ROC-AUC | Notes / Observations |\n",
        "|------------|--------------|--------------------|\n",
        "| XGBoost (tuned) | 0.789        | Tuned for class imbalance and hyperparameters. Slightly improved some tasks but still below RF (~0.810). |\n",
        "\n",
        "**Per-task ROC-AUC:**  \n",
        "[0.742, 0.884, 0.875, 0.708, 0.708, 0.801, 0.818, 0.762, 0.798, 0.688, 0.848, 0.831]\n",
        "\n",
        "> **Observation:** Even after tuning, Random Forest remains the best baseline for this dataset. This sets a strong reference point for evaluating the GNN.\n"
      ],
      "metadata": {
        "id": "B6wsb3mX__Sq"
      }
    },
    {
      "cell_type": "markdown",
      "source": [
        "# GIN-based GNN for Multi-task Toxicity Prediction\n"
      ],
      "metadata": {
        "id": "vB3da4uBAAN4"
      }
    },
    {
      "cell_type": "markdown",
      "source": [
        "1. Setup & Dataset"
      ],
      "metadata": {
        "id": "vDmxF9ZQ3YdN"
      }
    },
    {
      "cell_type": "code",
      "source": [
        "import torch\n",
        "import torch.nn as nn\n",
        "import torch.nn.functional as F\n",
        "from torch_geometric.nn import GINConv, global_mean_pool\n",
        "from torch_geometric.datasets import MoleculeNet\n",
        "from torch_geometric.loader import DataLoader\n",
        "from sklearn.metrics import roc_auc_score\n",
        "import numpy as np\n",
        "\n",
        "# Device\n",
        "device = torch.device(\"cuda\" if torch.cuda.is_available() else \"cpu\")\n",
        "print(\"Using device:\", device)\n",
        "\n",
        "# Load dataset\n",
        "dataset = MoleculeNet(root=\"data\", name=\"Tox21\")\n",
        "print(f\"Number of molecules: {len(dataset)}\")\n",
        "print(f\"Node feature dimension: {dataset.num_node_features}\")\n",
        "print(f\"Number of prediction tasks: {dataset.num_classes}\")\n",
        "\n",
        "# Shuffle + split (80/10/10)\n",
        "torch.manual_seed(42)\n",
        "dataset = dataset.shuffle()\n",
        "n = len(dataset)\n",
        "train_dataset = dataset[:int(0.8*n)]\n",
        "val_dataset   = dataset[int(0.8*n):int(0.9*n)]\n",
        "test_dataset  = dataset[int(0.9*n):]\n",
        "\n",
        "train_loader = DataLoader(train_dataset, batch_size=64, shuffle=True)\n",
        "val_loader   = DataLoader(val_dataset, batch_size=64)\n",
        "test_loader  = DataLoader(test_dataset, batch_size=64)\n"
      ],
      "metadata": {
        "colab": {
          "base_uri": "https://localhost:8080/"
        },
        "id": "N_xG2JIQ3ZZi",
        "outputId": "6779ac2d-4089-4b6c-ea95-73db1b32874e"
      },
      "execution_count": null,
      "outputs": [
        {
          "output_type": "stream",
          "name": "stdout",
          "text": [
            "Using device: cuda\n"
          ]
        },
        {
          "output_type": "stream",
          "name": "stderr",
          "text": [
            "Downloading https://deepchemdata.s3-us-west-1.amazonaws.com/datasets/tox21.csv.gz\n",
            "Extracting data/tox21/raw/tox21.csv.gz\n",
            "Processing...\n",
            "/usr/local/lib/python3.12/dist-packages/torch_geometric/datasets/molecule_net.py:213: UserWarning: Skipping molecule 'NC(=O)NC1N=C(O[AlH3](O)O)NC1=O' since it resulted in zero atoms\n",
            "  warnings.warn(f\"Skipping molecule '{smiles}' since it \"\n",
            "/usr/local/lib/python3.12/dist-packages/torch_geometric/datasets/molecule_net.py:213: UserWarning: Skipping molecule 'O=CO[AlH3](OC=O)OC=O' since it resulted in zero atoms\n",
            "  warnings.warn(f\"Skipping molecule '{smiles}' since it \"\n",
            "/usr/local/lib/python3.12/dist-packages/torch_geometric/datasets/molecule_net.py:213: UserWarning: Skipping molecule 'CC(=O)O[AlH3](O)O' since it resulted in zero atoms\n",
            "  warnings.warn(f\"Skipping molecule '{smiles}' since it \"\n",
            "/usr/local/lib/python3.12/dist-packages/torch_geometric/datasets/molecule_net.py:213: UserWarning: Skipping molecule 'CC(=O)O[AlH3](O)OC(C)=O' since it resulted in zero atoms\n",
            "  warnings.warn(f\"Skipping molecule '{smiles}' since it \"\n",
            "/usr/local/lib/python3.12/dist-packages/torch_geometric/datasets/molecule_net.py:213: UserWarning: Skipping molecule 'CCOC(=O)/C=C(/C)O[AlH3](OC(C)CC)OC(C)CC' since it resulted in zero atoms\n",
            "  warnings.warn(f\"Skipping molecule '{smiles}' since it \"\n",
            "/usr/local/lib/python3.12/dist-packages/torch_geometric/datasets/molecule_net.py:213: UserWarning: Skipping molecule 'CCCCO[AlH3](OCCCC)OCCCC' since it resulted in zero atoms\n",
            "  warnings.warn(f\"Skipping molecule '{smiles}' since it \"\n",
            "/usr/local/lib/python3.12/dist-packages/torch_geometric/datasets/molecule_net.py:213: UserWarning: Skipping molecule 'O=S(=O)(OC[C@H]1O[C@H](O[C@]2(COS(=O)(=O)O[AlH3](O)O)O[C@H](COS(=O)(=O)O[AlH3](O)O)[C@@H](OS(=O)(=O)O[AlH3](O)O)[C@@H]2OS(=O)(=O)O[AlH3](O)O)[C@H](OS(=O)(=O)O[AlH3](O)O)[C@@H](OS(=O)(=O)O[AlH3](O)O)[C@@H]1OS(=O)(=O)O[AlH3](O)O)O[AlH3](O)O.O[AlH3](O)[AlH3](O)O.O[AlH3](O)[AlH3](O)O.O[AlH3](O)[AlH3](O)O.O[AlH3](O)[AlH3](O)O' since it resulted in zero atoms\n",
            "  warnings.warn(f\"Skipping molecule '{smiles}' since it \"\n",
            "/usr/local/lib/python3.12/dist-packages/torch_geometric/datasets/molecule_net.py:213: UserWarning: Skipping molecule 'CCCCCCCCCCCCCCCCCC(=O)O[AlH3](O)O' since it resulted in zero atoms\n",
            "  warnings.warn(f\"Skipping molecule '{smiles}' since it \"\n"
          ]
        },
        {
          "output_type": "stream",
          "name": "stdout",
          "text": [
            "Number of molecules: 7823\n",
            "Node feature dimension: 9\n",
            "Number of prediction tasks: 12\n"
          ]
        },
        {
          "output_type": "stream",
          "name": "stderr",
          "text": [
            "Done!\n"
          ]
        }
      ]
    },
    {
      "cell_type": "markdown",
      "source": [
        "2. GIN Model"
      ],
      "metadata": {
        "id": "BUpxXBUH6HpS"
      }
    },
    {
      "cell_type": "code",
      "source": [
        "class GIN(torch.nn.Module):\n",
        "    def __init__(self, input_dim, hidden_dim=128, num_layers=4, dropout=0.4):\n",
        "        super().__init__()\n",
        "        self.convs, self.bns = nn.ModuleList(), nn.ModuleList()\n",
        "\n",
        "        # Input layer\n",
        "        self.convs.append(GINConv(nn.Sequential(\n",
        "            nn.Linear(input_dim, hidden_dim),\n",
        "            nn.ReLU(),\n",
        "            nn.Linear(hidden_dim, hidden_dim),\n",
        "        )))\n",
        "        self.bns.append(nn.BatchNorm1d(hidden_dim))\n",
        "\n",
        "        # Hidden layers\n",
        "        for _ in range(num_layers-1):\n",
        "            self.convs.append(GINConv(nn.Sequential(\n",
        "                nn.Linear(hidden_dim, hidden_dim),\n",
        "                nn.ReLU(),\n",
        "                nn.Linear(hidden_dim, hidden_dim),\n",
        "            )))\n",
        "            self.bns.append(nn.BatchNorm1d(hidden_dim))\n",
        "\n",
        "        # Classifier\n",
        "        self.linear = nn.Linear(hidden_dim, dataset.num_classes)\n",
        "        self.dropout = dropout\n",
        "\n",
        "    def forward(self, x, edge_index, batch):\n",
        "        for conv, bn in zip(self.convs, self.bns):\n",
        "            x = conv(x, edge_index)\n",
        "            x = bn(x)\n",
        "            x = F.relu(x)\n",
        "            x = F.dropout(x, p=self.dropout, training=self.training)\n",
        "        x = global_mean_pool(x, batch)\n",
        "        return self.linear(x)\n"
      ],
      "metadata": {
        "id": "7xEUXAMj6Ihh"
      },
      "execution_count": null,
      "outputs": []
    },
    {
      "cell_type": "markdown",
      "source": [
        "3. Training & Evaluation Functions"
      ],
      "metadata": {
        "id": "MdGkkWkk6X7b"
      }
    },
    {
      "cell_type": "code",
      "source": [
        "model = GIN(input_dim=dataset.num_node_features).to(device)\n",
        "optimizer = torch.optim.Adam(model.parameters(), lr=1e-3)\n",
        "\n",
        "def train():\n",
        "    model.train()\n",
        "    total_loss = 0\n",
        "    for data in train_loader:\n",
        "        data = data.to(device)\n",
        "        optimizer.zero_grad()\n",
        "        out = model(data.x, data.edge_index, data.batch)\n",
        "\n",
        "        # ✅ Mask out missing labels (NaNs in Tox21)\n",
        "        mask = ~torch.isnan(data.y)\n",
        "        if mask.sum() == 0:\n",
        "            continue  # skip batch if all labels are missing\n",
        "\n",
        "        loss = F.binary_cross_entropy_with_logits(\n",
        "            out[mask], data.y[mask].to(torch.float)\n",
        "        )\n",
        "\n",
        "        loss.backward()\n",
        "        optimizer.step()\n",
        "        total_loss += loss.item()\n",
        "    return total_loss / len(train_loader)\n",
        "\n",
        "\n",
        "@torch.no_grad()\n",
        "def evaluate(loader):\n",
        "    model.eval()\n",
        "    y_true, y_pred = [], []\n",
        "    for data in loader:\n",
        "        data = data.to(device)\n",
        "        out = model(data.x, data.edge_index, data.batch)\n",
        "        y_true.append(data.y.cpu().numpy())\n",
        "        y_pred.append(torch.sigmoid(out).cpu().numpy())\n",
        "    y_true = np.vstack(y_true)\n",
        "    y_pred = np.vstack(y_pred)\n",
        "    aucs = []\n",
        "    for i in range(y_true.shape[1]):\n",
        "        mask = ~np.isnan(y_true[:, i])\n",
        "        if mask.sum() > 0:\n",
        "            aucs.append(roc_auc_score(y_true[mask, i], y_pred[mask, i]))\n",
        "    return np.mean(aucs), aucs\n"
      ],
      "metadata": {
        "id": "jqKQ_qad6ZH9"
      },
      "execution_count": null,
      "outputs": []
    },
    {
      "cell_type": "markdown",
      "source": [
        "4. Training Loop (with Early Stopping)"
      ],
      "metadata": {
        "id": "IH3f-Eif6dll"
      }
    },
    {
      "cell_type": "code",
      "source": [
        "best_val_auc = 0\n",
        "patience, patience_counter = 7, 0\n",
        "\n",
        "for epoch in range(1, 61):\n",
        "    loss = train()\n",
        "    val_auc, _ = evaluate(val_loader)\n",
        "    print(f\"Epoch {epoch:03d} | Loss: {loss:.4f} | Val ROC-AUC: {val_auc:.4f}\")\n",
        "\n",
        "    if val_auc > best_val_auc:\n",
        "        best_val_auc = val_auc\n",
        "        patience_counter = 0\n",
        "        torch.save(model.state_dict(), \"best_gnn.pt\")\n",
        "    else:\n",
        "        patience_counter += 1\n",
        "        if patience_counter >= patience:\n",
        "            print(\"Early stopping triggered!\")\n",
        "            break\n",
        "\n",
        "print(\"Best Val ROC-AUC:\", best_val_auc)\n"
      ],
      "metadata": {
        "colab": {
          "base_uri": "https://localhost:8080/"
        },
        "id": "KXRqvZ0v6ecK",
        "outputId": "3ba525e9-e450-4070-917c-8cbc6f22bfac"
      },
      "execution_count": null,
      "outputs": [
        {
          "output_type": "stream",
          "name": "stdout",
          "text": [
            "Epoch 001 | Loss: 0.3105 | Val ROC-AUC: 0.7323\n",
            "Epoch 002 | Loss: 0.2287 | Val ROC-AUC: 0.7247\n",
            "Epoch 003 | Loss: 0.2278 | Val ROC-AUC: 0.7390\n",
            "Epoch 004 | Loss: 0.2232 | Val ROC-AUC: 0.7091\n",
            "Epoch 005 | Loss: 0.2220 | Val ROC-AUC: 0.7701\n",
            "Epoch 006 | Loss: 0.2196 | Val ROC-AUC: 0.7376\n",
            "Epoch 007 | Loss: 0.2185 | Val ROC-AUC: 0.7565\n",
            "Epoch 008 | Loss: 0.2175 | Val ROC-AUC: 0.7554\n",
            "Epoch 009 | Loss: 0.2165 | Val ROC-AUC: 0.7742\n",
            "Epoch 010 | Loss: 0.2162 | Val ROC-AUC: 0.7970\n",
            "Epoch 011 | Loss: 0.2138 | Val ROC-AUC: 0.7815\n",
            "Epoch 012 | Loss: 0.2138 | Val ROC-AUC: 0.7770\n",
            "Epoch 013 | Loss: 0.2129 | Val ROC-AUC: 0.7908\n",
            "Epoch 014 | Loss: 0.2117 | Val ROC-AUC: 0.7780\n",
            "Epoch 015 | Loss: 0.2095 | Val ROC-AUC: 0.7666\n",
            "Epoch 016 | Loss: 0.2088 | Val ROC-AUC: 0.8015\n",
            "Epoch 017 | Loss: 0.2084 | Val ROC-AUC: 0.7954\n",
            "Epoch 018 | Loss: 0.2081 | Val ROC-AUC: 0.8046\n",
            "Epoch 019 | Loss: 0.2063 | Val ROC-AUC: 0.8022\n",
            "Epoch 020 | Loss: 0.2057 | Val ROC-AUC: 0.8045\n",
            "Epoch 021 | Loss: 0.2044 | Val ROC-AUC: 0.8062\n",
            "Epoch 022 | Loss: 0.2037 | Val ROC-AUC: 0.7872\n",
            "Epoch 023 | Loss: 0.2042 | Val ROC-AUC: 0.8051\n",
            "Epoch 024 | Loss: 0.2014 | Val ROC-AUC: 0.7469\n",
            "Epoch 025 | Loss: 0.2012 | Val ROC-AUC: 0.8015\n",
            "Epoch 026 | Loss: 0.1998 | Val ROC-AUC: 0.7881\n",
            "Epoch 027 | Loss: 0.1995 | Val ROC-AUC: 0.8109\n",
            "Epoch 028 | Loss: 0.1989 | Val ROC-AUC: 0.8093\n",
            "Epoch 029 | Loss: 0.1987 | Val ROC-AUC: 0.8137\n",
            "Epoch 030 | Loss: 0.1989 | Val ROC-AUC: 0.7810\n",
            "Epoch 031 | Loss: 0.1996 | Val ROC-AUC: 0.8137\n",
            "Epoch 032 | Loss: 0.1969 | Val ROC-AUC: 0.8210\n",
            "Epoch 033 | Loss: 0.1962 | Val ROC-AUC: 0.8095\n",
            "Epoch 034 | Loss: 0.1975 | Val ROC-AUC: 0.7909\n",
            "Epoch 035 | Loss: 0.1971 | Val ROC-AUC: 0.7945\n",
            "Epoch 036 | Loss: 0.1954 | Val ROC-AUC: 0.8153\n",
            "Epoch 037 | Loss: 0.1931 | Val ROC-AUC: 0.7963\n",
            "Epoch 038 | Loss: 0.1944 | Val ROC-AUC: 0.8138\n",
            "Epoch 039 | Loss: 0.1942 | Val ROC-AUC: 0.8031\n",
            "Early stopping triggered!\n",
            "Best Val ROC-AUC: 0.8210012701495292\n"
          ]
        }
      ]
    },
    {
      "cell_type": "markdown",
      "source": [
        "5. Final Test Performance"
      ],
      "metadata": {
        "id": "Y8O_4RC97ywW"
      }
    },
    {
      "cell_type": "code",
      "source": [
        "model.load_state_dict(torch.load(\"best_gnn.pt\"))\n",
        "test_auc, per_task_aucs = evaluate(test_loader)\n",
        "\n",
        "print(\"✅ Final Test ROC-AUC:\", test_auc)\n",
        "print(\"Per-task AUCs:\", per_task_aucs)\n"
      ],
      "metadata": {
        "colab": {
          "base_uri": "https://localhost:8080/"
        },
        "id": "kHAdOu0Z7zgp",
        "outputId": "6d7de46e-8259-4413-bb4b-b1ce17498123"
      },
      "execution_count": null,
      "outputs": [
        {
          "output_type": "stream",
          "name": "stdout",
          "text": [
            "✅ Final Test ROC-AUC: 0.8189244973859698\n",
            "Per-task AUCs: [np.float64(0.8367934224049332), np.float64(0.864938080495356), np.float64(0.8533055609798434), np.float64(0.7899285714285714), np.float64(0.7004741621795387), np.float64(0.8543098150941288), np.float64(0.7258373205741626), np.float64(0.800142476330545), np.float64(0.8710358056265985), np.float64(0.8214285714285714), np.float64(0.8796173559561683), np.float64(0.8292828261332198)]\n"
          ]
        }
      ]
    },
    {
      "cell_type": "markdown",
      "source": [
        "### Final GNN Results  \n",
        "\n",
        "✅ **Test ROC-AUC (mean): 0.819**  \n",
        "Per-task ROC-AUCs: [0.837, 0.865, 0.853, 0.790, 0.700, 0.854, 0.726, 0.800, 0.871, 0.821, 0.880, 0.829]  \n"
      ],
      "metadata": {
        "id": "qK6ienWc-hqA"
      }
    },
    {
      "cell_type": "markdown",
      "source": [
        "# Per-task ROC-AUC comparison (bar chart)"
      ],
      "metadata": {
        "id": "Stl_AWEp9Ide"
      }
    },
    {
      "cell_type": "code",
      "source": [
        "import matplotlib.pyplot as plt\n",
        "import numpy as np\n",
        "\n",
        "# Example per-task AUCs (replace with your actual values)\n",
        "auc_rf = [0.770, 0.855, 0.878, 0.782, 0.740, 0.819, 0.819, 0.792, 0.778, 0.784, 0.858, 0.841]\n",
        "auc_xgb = [0.742, 0.884, 0.875, 0.708, 0.708, 0.801, 0.818, 0.762, 0.798, 0.688, 0.848, 0.831]\n",
        "auc_gnn = [0.837, 0.865, 0.853, 0.790, 0.700, 0.854, 0.726, 0.800, 0.871, 0.821, 0.880, 0.829]\n",
        "tasks = np.arange(1, 13)\n",
        "\n",
        "width = 0.25\n",
        "plt.figure(figsize=(12,6))\n",
        "plt.bar(tasks - width, auc_rf, width, label=\"Random Forest\")\n",
        "plt.bar(tasks, auc_xgb, width, label=\"XGBoost\")\n",
        "plt.bar(tasks + width, auc_gnn, width, label=\"GNN\")\n",
        "\n",
        "plt.xlabel(\"Task\")\n",
        "plt.ylabel(\"ROC-AUC\")\n",
        "plt.title(\"Per-task ROC-AUC Comparison\")\n",
        "plt.xticks(tasks)\n",
        "plt.ylim(0.6, 0.95)\n",
        "plt.legend()\n",
        "plt.show()\n"
      ],
      "metadata": {
        "colab": {
          "base_uri": "https://localhost:8080/",
          "height": 564
        },
        "id": "YZmyjX4P9MW_",
        "outputId": "dd1ee6d2-2add-493e-e2f7-68c76de633aa"
      },
      "execution_count": null,
      "outputs": [
        {
          "output_type": "display_data",
          "data": {
            "text/plain": [
              "<Figure size 1200x600 with 1 Axes>"
            ],
            "image/png": "[encoded data removed]"
          },
          "metadata": {}
        }
      ]
    },
    {
      "cell_type": "markdown",
      "source": [
        "# GNN Training Curve (line chart)"
      ],
      "metadata": {
        "id": "yUlD3ep_9ZWE"
      }
    },
    {
      "cell_type": "code",
      "source": [
        "epochs = list(range(1, 40))\n",
        "val_auc = [0.7323, 0.7247, 0.7390, 0.7091, 0.7701, 0.7376, 0.7565, 0.7554, 0.7742, 0.7970, 0.7815, 0.7770, 0.7908, 0.7780, 0.7666, 0.8015, 0.7954, 0.8046, 0.8022, 0.8045, 0.8062, 0.7872, 0.8051, 0.7469, 0.8015, 0.7881, 0.8109, 0.8093, 0.8137, 0.7810, 0.8137, 0.8210, 0.8095, 0.7909, 0.7945, 0.8153, 0.7963, 0.8138, 0.8031]\n",
        "\n",
        "plt.figure(figsize=(10,5))\n",
        "plt.plot(epochs, val_auc, marker=\"o\", color=\"blue\", label=\"Validation ROC-AUC\")\n",
        "plt.axhline(max(val_auc), color=\"red\", linestyle=\"--\", label=f\"Best AUC = {max(val_auc):.3f}\")\n",
        "plt.xlabel(\"Epoch\")\n",
        "plt.ylabel(\"Validation ROC-AUC\")\n",
        "plt.title(\"GNN Training Curve\")\n",
        "plt.legend()\n",
        "plt.show()\n"
      ],
      "metadata": {
        "colab": {
          "base_uri": "https://localhost:8080/",
          "height": 487
        },
        "id": "AniDCgKZ9bSF",
        "outputId": "87d52851-a497-43cf-df12-2de9ef23a898"
      },
      "execution_count": null,
      "outputs": [
        {
          "output_type": "display_data",
          "data": {
            "text/plain": [
              "<Figure size 1000x500 with 1 Axes>"
            ],
            "image/png": "[encoded data removed]"
          },
          "metadata": {}
        }
      ]
    },
    {
      "cell_type": "markdown",
      "source": [
        "# Boxplot of per-task AUCs"
      ],
      "metadata": {
        "id": "kJVF-vAI_hV9"
      }
    },
    {
      "cell_type": "code",
      "source": [
        "data = [auc_rf, auc_xgb, auc_gnn]\n",
        "\n",
        "plt.figure(figsize=(8,6))\n",
        "plt.boxplot(data, labels=[\"Random Forest\", \"XGBoost\", \"GNN\"])\n",
        "plt.ylabel(\"ROC-AUC\")\n",
        "plt.title(\"Distribution of Per-task ROC-AUC\")\n",
        "plt.ylim(0.6, 0.95)\n",
        "plt.show()\n"
      ],
      "metadata": {
        "id": "0-UYkwBx_kf8",
        "outputId": "2ce81b96-ac8b-48f9-94f1-f3852f58af89",
        "colab": {
          "base_uri": "https://localhost:8080/",
          "height": 600
        }
      },
      "execution_count": null,
      "outputs": [
        {
          "output_type": "stream",
          "name": "stderr",
          "text": [
            "/tmp/ipython-input-2749575245.py:4: MatplotlibDeprecationWarning: The 'labels' parameter of boxplot() has been renamed 'tick_labels' since Matplotlib 3.9; support for the old name will be dropped in 3.11.\n",
            "  plt.boxplot(data, labels=[\"Random Forest\", \"XGBoost\", \"GNN\"])\n"
          ]
        },
        {
          "output_type": "display_data",
          "data": {
            "text/plain": [
              "<Figure size 800x600 with 1 Axes>"
            ],
            "image/png": "[encoded data removed]"
          },
          "metadata": {}
        }
      ]
    },
    {
      "cell_type": "markdown",
      "source": [
        " **📌 Conclusion**\n",
        "\n",
        "Random Forest emerged as the best model (ROC-AUC ≈ 0.84), outperforming XGBoost and the GNN.\n",
        "Our GNN achieved a solid ROC-AUC of 0.819, showing deep learning on molecular graphs is competitive.\n",
        "Per-task AUCs varied (0.70–0.87), reflecting task difficulty.\n",
        "Overall, classical ML remains strong, while GNNs provide a scalable deep learning alternative."
      ],
      "metadata": {
        "id": "CsCmIZITFJ7Q"
      }
    }
  ]
}